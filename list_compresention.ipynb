{
  "nbformat": 4,
  "nbformat_minor": 0,
  "metadata": {
    "colab": {
      "provenance": [],
      "authorship_tag": "ABX9TyNqlEic4BfxILtaU/QYJPsZ",
      "include_colab_link": true
    },
    "kernelspec": {
      "name": "python3",
      "display_name": "Python 3"
    },
    "language_info": {
      "name": "python"
    }
  },
  "cells": [
    {
      "cell_type": "markdown",
      "metadata": {
        "id": "view-in-github",
        "colab_type": "text"
      },
      "source": [
        "<a href=\"https://colab.research.google.com/github/ibrar1971/raspberry/blob/master/list_compresention.ipynb\" target=\"_parent\"><img src=\"https://colab.research.google.com/assets/colab-badge.svg\" alt=\"Open In Colab\"/></a>"
      ]
    },
    {
      "cell_type": "code",
      "execution_count": 1,
      "metadata": {
        "colab": {
          "base_uri": "https://localhost:8080/"
        },
        "id": "ZGyJSltgmLDP",
        "outputId": "b49911c0-2df4-41d5-cc98-cefc98d6b364"
      },
      "outputs": [
        {
          "output_type": "stream",
          "name": "stdout",
          "text": [
            "6\n"
          ]
        }
      ],
      "source": [
        "matrix = [  [1, 2, 3,],\n",
        "          [4, 5, 6],\n",
        "            [7, 8, 9]\n",
        "]\n",
        "\n",
        "print(matrix[1][2])"
      ]
    },
    {
      "cell_type": "code",
      "source": [
        "matrix = [  [1, 2, 3,],[4, 5, 6],[7, 8, 9]]\n",
        "\n",
        "print(matrix[1][2])"
      ],
      "metadata": {
        "id": "7UITs9Z-pohI"
      },
      "execution_count": null,
      "outputs": []
    },
    {
      "cell_type": "code",
      "source": [
        "matrix-3d = [[1, 2],[4, 5]]"
      ],
      "metadata": {
        "id": "XmOEN4drp4n3"
      },
      "execution_count": null,
      "outputs": []
    },
    {
      "cell_type": "code",
      "source": [
        "#"
      ],
      "metadata": {
        "id": "wmpCHlWnvC4E"
      },
      "execution_count": null,
      "outputs": []
    }
  ]
}