{
  "nbformat": 4,
  "nbformat_minor": 0,
  "metadata": {
    "colab": {
      "provenance": [],
      "authorship_tag": "ABX9TyO0WFGy/07QGWhtaQG5VkYX",
      "include_colab_link": true
    },
    "kernelspec": {
      "name": "python3",
      "display_name": "Python 3"
    },
    "language_info": {
      "name": "python"
    }
  },
  "cells": [
    {
      "cell_type": "markdown",
      "metadata": {
        "id": "view-in-github",
        "colab_type": "text"
      },
      "source": [
        "<a href=\"https://colab.research.google.com/github/ibrar1971/raspberry/blob/master/1st_homework_07042023.ipynb\" target=\"_parent\"><img src=\"https://colab.research.google.com/assets/colab-badge.svg\" alt=\"Open In Colab\"/></a>"
      ]
    },
    {
      "cell_type": "code",
      "execution_count": null,
      "metadata": {
        "colab": {
          "base_uri": "https://localhost:8080/"
        },
        "id": "PyPdlFbxXtUh",
        "outputId": "a72a6aec-5ee5-44e9-f562-8a771a5bc869"
      },
      "outputs": [
        {
          "output_type": "stream",
          "name": "stdout",
          "text": [
            "Enter a number: 501\n",
            "The number you have entered is an odd number\n"
          ]
        }
      ],
      "source": [
        "\"\"\"\n",
        "Question: Write a program that takes in a number and \n",
        "prints \"Even\" if it is even, and \"Odd\" if it is odd.\n",
        "\"\"\"\n",
        "\n",
        "number = int(input(\"Enter a number: \")) # How do i show a message when wrong input is given\n",
        "\n",
        "if number % 2 == 0:\n",
        "  print(\"The number you have entered is an even number\")\n",
        "else:\n",
        "  print(\"The number you have entered is an odd number\")\n"
      ]
    },
    {
      "cell_type": "code",
      "source": [
        "\"\"\"\n",
        "Write a program that takes in a person's name and gender, \n",
        "and prints a greeting message that includes their name and a \n",
        "gender-specific message (\"Mr.\" for males and \"Ms.\" for females).\n",
        "\"\"\"\n",
        "\n",
        "name = input(\"What's your name? \")\n",
        "gender = input(\"what is your gender?\")\n",
        "\n",
        "if gender == \"Male\":   # Here I always have to take the gender input as \"Male\", taking \"male\" does not works\n",
        "  salutaion = \"Mr\"\n",
        "  print(\"Hello\",salutaion, name,\"Welcome to Python Bootcamp\")\n",
        "elif gender == \"Female\":\n",
        "  salutaion2 = \"Ms.\"\n",
        "  print(\"Hello\",salutaion2, name,\"Welcome to Python Bootcamp\")\n",
        "else:\n",
        "  print(\"Welcome!\")\n",
        "\n"
      ],
      "metadata": {
        "colab": {
          "base_uri": "https://localhost:8080/"
        },
        "id": "y1WqE0YeX3Xu",
        "outputId": "11c4069e-13af-406f-848a-31fe582ae6c5"
      },
      "execution_count": null,
      "outputs": [
        {
          "output_type": "stream",
          "name": "stdout",
          "text": [
            "What's your name? Alex\n",
            "what is your gender?Male\n",
            "Hello Mr Alex Welcome to Python Bootcamp\n"
          ]
        }
      ]
    },
    {
      "cell_type": "code",
      "source": [
        "\n",
        "\"\"\"\n",
        "Write a program that takes in a person's age and \n",
        "prints \"You can vote\" if they are 18 or older, and \n",
        "\"You cannot vote yet\" otherwise.\n",
        "\"\"\"\n",
        "\n",
        "age = int(input(\"How old are you? \"))\n",
        "\n",
        "if age >= 18:\n",
        "  print(\"You can vote!\")\n",
        "else:\n",
        "  print(\"You can't vote yet\")"
      ],
      "metadata": {
        "colab": {
          "base_uri": "https://localhost:8080/"
        },
        "id": "vIP8qdamX8ru",
        "outputId": "68c3910f-b9e9-4bf7-cf1d-0d3626c4985b"
      },
      "execution_count": null,
      "outputs": [
        {
          "output_type": "stream",
          "name": "stdout",
          "text": [
            "How old are you? 25\n",
            "You can vote!\n"
          ]
        }
      ]
    },
    {
      "cell_type": "code",
      "source": [
        "# Write a program that takes in two numbers and prints the larger one\n",
        "\n",
        "num1 = int(input(\"Please enter the first number: \"))\n",
        "num2 = int(input(\"Please enter the second number: \"))\n",
        "if num1 > num2:\n",
        "  print(\"The larger number is: \", num1)\n",
        "else:\n",
        "  print(\"The larger number is: \", num2)"
      ],
      "metadata": {
        "colab": {
          "base_uri": "https://localhost:8080/"
        },
        "id": "5nl8PjdKX-52",
        "outputId": "4437e5f0-add9-4ae7-eb50-f15f69892edf"
      },
      "execution_count": null,
      "outputs": [
        {
          "output_type": "stream",
          "name": "stdout",
          "text": [
            "Please enter the first number: 200\n",
            "Please enter the second number: 100\n",
            "The larger number is:  200\n"
          ]
        }
      ]
    },
    {
      "cell_type": "code",
      "source": [
        "\"\"\"\n",
        "Write a program that calculates the area of a rectangle \n",
        "based on user input for the length and width. \n",
        "[Hints: length = float(input(\"Enter the length of the rectangle: \"))]. \n",
        "Here you have to take input as float value that means 3.45 , 2.111 etc.\n",
        "\"\"\"\n",
        "\n",
        "length = float(input(\"What is the length of the rectangle: \"))\n",
        "width = float(input(\"whay is the width of the rectangle: \"))\n",
        "area = length * width\n",
        "\n",
        "print(\"The area of the rechangle is: \", area)"
      ],
      "metadata": {
        "colab": {
          "base_uri": "https://localhost:8080/"
        },
        "id": "sUn54BbkYIB3",
        "outputId": "49e6bc67-8586-42da-c7d5-d7de90a7bd25"
      },
      "execution_count": null,
      "outputs": [
        {
          "output_type": "stream",
          "name": "stdout",
          "text": [
            "What is the length of the rectangle: 2.5\n",
            "whay is the width of the rectangle: 3.5\n",
            "The area of the rechangle is:  8.75\n"
          ]
        }
      ]
    },
    {
      "cell_type": "code",
      "source": [
        "\"\"\"\n",
        "Write a program that takes in a year and \n",
        "prints \"Leap year\" if it is a leap year\n",
        "(divisible by 4 and not divisible by 100, or divisible by 400), \n",
        "and \"Not a leap year\" otherwise.\n",
        "\"\"\"\n",
        "\n",
        "year = int(input(\"Please enter the year: \"))\n",
        "\n",
        "if ((year %100 == 0) and (year %400 == 0)):\n",
        "  print(year, \" is a Leap Year\")\n",
        "else:\n",
        "  print(year, \" is not a Leap Year\")\n",
        "\n"
      ],
      "metadata": {
        "id": "0E2VEeZuYKa9"
      },
      "execution_count": null,
      "outputs": []
    }
  ]
}