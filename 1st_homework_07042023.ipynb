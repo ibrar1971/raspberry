{
  "nbformat": 4,
  "nbformat_minor": 0,
  "metadata": {
    "colab": {
      "provenance": [],
      "authorship_tag": "ABX9TyNc7jrL+p0uZZNN3Om2spXJ",
      "include_colab_link": true
    },
    "kernelspec": {
      "name": "python3",
      "display_name": "Python 3"
    },
    "language_info": {
      "name": "python"
    }
  },
  "cells": [
    {
      "cell_type": "markdown",
      "metadata": {
        "id": "view-in-github",
        "colab_type": "text"
      },
      "source": [
        "<a href=\"https://colab.research.google.com/github/ibrar1971/raspberry/blob/master/1st_homework_07042023.ipynb\" target=\"_parent\"><img src=\"https://colab.research.google.com/assets/colab-badge.svg\" alt=\"Open In Colab\"/></a>"
      ]
    },
    {
      "cell_type": "code",
      "execution_count": 1,
      "metadata": {
        "colab": {
          "base_uri": "https://localhost:8080/"
        },
        "id": "PyPdlFbxXtUh",
        "outputId": "74464aae-2d78-40cb-8e55-7f70d98be3a5"
      },
      "outputs": [
        {
          "output_type": "stream",
          "name": "stdout",
          "text": [
            "Enter a number200\n",
            "The number you have netered is an even number\n"
          ]
        }
      ],
      "source": [
        "\"\"\"\n",
        "Question: Write a program that takes in a number and \n",
        "prints \"Even\" if it is even, and \"Odd\" if it is odd.\n",
        "\"\"\"\n",
        "\n",
        "number = int(input(\"Enter a number: \")) # How do i show a message when wrong input is given\n",
        "\n",
        "if number % 2 == 0:\n",
        "  print(\"The number you have netered is an even number\")\n",
        "else:\n",
        "  print(\"The number you have netered is an odd number\")\n"
      ]
    },
    {
      "cell_type": "code",
      "source": [
        "\"\"\"\n",
        "Write a program that takes in a person's name and gender, \n",
        "and prints a greeting message that includes their name and a \n",
        "gender-specific message (\"Mr.\" for males and \"Ms.\" for females).\n",
        "\"\"\"\n",
        "\n",
        "name = input(\"What's your name? \")\n",
        "gender = input(\"what is your gender?\")\n",
        "\n",
        "if gender == \"Male\":\n",
        "  salutaion = \"Mr\"\n",
        "  print(\"Hello\",salutaion, name,\"Welcome to Python Bootcamp\")\n",
        "elif gender == \"Female\":\n",
        "  salutaion2 = \"Ms.\"\n",
        "  print(\"Hello\",salutaion2, name,\"Welcome to Python Bootcamp\")\n",
        "else:\n",
        "  print(\"Welcome!\")\n",
        "\n"
      ],
      "metadata": {
        "id": "y1WqE0YeX3Xu"
      },
      "execution_count": null,
      "outputs": []
    },
    {
      "cell_type": "code",
      "source": [
        "\"\"\"\n",
        "Write a program that takes in a person's age and \n",
        "prints \"You can vote\" if they are 18 or older, and \n",
        "\"You cannot vote yet\" otherwise.\n",
        "\"\"\"\n",
        "\n",
        "age = int(input(\"How old are you ?\"))\n",
        "\n",
        "if age >= 18:\n",
        "  print(\"You can vote!\")\n",
        "else:\n",
        "  print(\"You can't vote yet\")"
      ],
      "metadata": {
        "id": "vIP8qdamX8ru"
      },
      "execution_count": null,
      "outputs": []
    },
    {
      "cell_type": "code",
      "source": [
        "\"\"\"\n",
        "Write a program that takes in a person's age and \n",
        "prints \"You can vote\" if they are 18 or older, and \n",
        "\"You cannot vote yet\" otherwise.\n",
        "\"\"\"\n",
        "\n",
        "age = int(input(\"How old are you ?\"))\n",
        "\n",
        "if age >= 18:\n",
        "  print(\"You can vote!\")\n",
        "else:\n",
        "  print(\"You can't vote yet\")"
      ],
      "metadata": {
        "id": "5nl8PjdKX-52"
      },
      "execution_count": null,
      "outputs": []
    },
    {
      "cell_type": "code",
      "source": [
        "\"\"\"\n",
        "Write a program that calculates the area of a rectangle \n",
        "based on user input for the length and width. \n",
        "[Hints: length = float(input(\"Enter the length of the rectangle: \"))]. \n",
        "Here you have to take input as float value that means 3.45 , 2.111 etc.\n",
        "\"\"\"\n",
        "\n",
        "length = float(input(\"What is the length of the rectangle: \"))\n",
        "width = float(input(\"whay is the width of the rectangle: \"))\n",
        "area = length * width\n",
        "\n",
        "print(\"The area of the rechangle is: \", area)"
      ],
      "metadata": {
        "id": "sUn54BbkYIB3"
      },
      "execution_count": null,
      "outputs": []
    },
    {
      "cell_type": "code",
      "source": [
        "\"\"\"\n",
        "Write a program that takes in a year and \n",
        "prints \"Leap year\" if it is a leap year\n",
        "(divisible by 4 and not divisible by 100, or divisible by 400), \n",
        "and \"Not a leap year\" otherwise.\n",
        "\"\"\"\n",
        "\n",
        "year = int(input(\"Please enter the year: \"))\n",
        "\n",
        "if ((year %100 == 0) and (year %400 == 0)):\n",
        "  print(year, \" is a Leap Year\")\n",
        "else:\n",
        "  print(year, \" is not a Leap Year\")\n",
        "\n"
      ],
      "metadata": {
        "id": "0E2VEeZuYKa9"
      },
      "execution_count": null,
      "outputs": []
    }
  ]
}