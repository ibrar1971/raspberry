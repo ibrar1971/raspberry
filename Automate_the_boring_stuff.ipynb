{
  "nbformat": 4,
  "nbformat_minor": 0,
  "metadata": {
    "colab": {
      "provenance": [],
      "authorship_tag": "ABX9TyMeggT2fSF8K08ZAD1PmZLV",
      "include_colab_link": true
    },
    "kernelspec": {
      "name": "python3",
      "display_name": "Python 3"
    },
    "language_info": {
      "name": "python"
    }
  },
  "cells": [
    {
      "cell_type": "markdown",
      "metadata": {
        "id": "view-in-github",
        "colab_type": "text"
      },
      "source": [
        "<a href=\"https://colab.research.google.com/github/ibrar1971/raspberry/blob/master/Automate_the_boring_stuff.ipynb\" target=\"_parent\"><img src=\"https://colab.research.google.com/assets/colab-badge.svg\" alt=\"Open In Colab\"/></a>"
      ]
    },
    {
      "cell_type": "code",
      "execution_count": null,
      "metadata": {
        "id": "rrnwafbj21KU",
        "colab": {
          "base_uri": "https://localhost:8080/"
        },
        "outputId": "02f710e5-45c4-40c2-cc14-05f58075a830"
      },
      "outputs": [
        {
          "output_type": "stream",
          "name": "stdout",
          "text": [
            "Hello, world!\n",
            "What is your name?\n",
            "Alex\n",
            "It is good to meet you, Alex\n",
            "The length of your name is:\n",
            "4\n",
            "What is your age?\n",
            "20\n",
            "You will be 21 in a year.\n"
          ]
        }
      ],
      "source": [
        "# This program says hello and asks for my name.\n",
        "\n",
        "print('Hello, world!')\n",
        "print('What is your name?')    # ask for their name\n",
        "myName = input()\n",
        "print('It is good to meet you, ' + myName)\n",
        "print('The length of your name is:')\n",
        "print(len(myName))\n",
        "print('What is your age?')    # ask for their age\n",
        "myAge = input()\n",
        "print('You will be ' + str(int(myAge) + 1) + ' in a year.')"
      ]
    },
    {
      "cell_type": "code",
      "source": [
        "name = input(\"What's your name\")\n",
        "print(name)\n",
        "len(name)\n",
        "len('jata')"
      ],
      "metadata": {
        "colab": {
          "base_uri": "https://localhost:8080/"
        },
        "id": "7bLNJFYVI-Ps",
        "outputId": "fb1ffead-2419-43ff-b700-5eb181d92ccf"
      },
      "execution_count": null,
      "outputs": [
        {
          "output_type": "stream",
          "name": "stdout",
          "text": [
            "What's your namelk\n",
            "lk\n"
          ]
        },
        {
          "output_type": "execute_result",
          "data": {
            "text/plain": [
              "4"
            ]
          },
          "metadata": {},
          "execution_count": 10
        }
      ]
    },
    {
      "cell_type": "code",
      "source": [
        "# Chapter 2 satrted\n",
        "# Topic: Flow Control Statements"
      ],
      "metadata": {
        "id": "aRTU1diaKnoq"
      },
      "execution_count": null,
      "outputs": []
    },
    {
      "cell_type": "code",
      "source": [
        "name = input('What is your Name: ')\n",
        "password = input('What is your password: ')\n",
        "\n",
        "if name == 'Marry':\n",
        "  print('Hello, Marry')\n",
        "else:\n",
        "    print('Who the hell are you?')\n",
        "\n",
        "if password == 'blabla':\n",
        "    print('Right Password')\n",
        "else:\n",
        "    print('Sorry, try again')\n"
      ],
      "metadata": {
        "colab": {
          "base_uri": "https://localhost:8080/",
          "height": 131
        },
        "id": "KN2hgnIjKp6P",
        "outputId": "192c0237-2520-4e72-e41c-23551b7dc4cc"
      },
      "execution_count": null,
      "outputs": [
        {
          "output_type": "error",
          "ename": "SyntaxError",
          "evalue": "ignored",
          "traceback": [
            "\u001b[0;36m  File \u001b[0;32m\"<ipython-input-18-fd38a75e7444>\"\u001b[0;36m, line \u001b[0;32m6\u001b[0m\n\u001b[0;31m    else:\u001b[0m\n\u001b[0m    ^\u001b[0m\n\u001b[0;31mSyntaxError\u001b[0m\u001b[0;31m:\u001b[0m invalid syntax\n"
          ]
        }
      ]
    },
    {
      "cell_type": "code",
      "source": [
        "name = input('What is your name: ')\n",
        "age = int(input('How old are you: '))\n",
        "if name == 'Alice':\n",
        "  print('Hello Alice')\n",
        "\n",
        "elif age < 12:\n",
        "  print('You are not Alice')\n"
      ],
      "metadata": {
        "colab": {
          "base_uri": "https://localhost:8080/"
        },
        "id": "eClA44w1RbMo",
        "outputId": "63362b01-4b9c-4b67-d527-421bfd213f06"
      },
      "execution_count": null,
      "outputs": [
        {
          "output_type": "stream",
          "name": "stdout",
          "text": [
            "What is your name: Sam\n",
            "How old are you: 10\n",
            "You are not Alice\n"
          ]
        }
      ]
    },
    {
      "cell_type": "code",
      "source": [
        "spam = int(input('Enter the value of spam: '))\n",
        "num = int(input('Enter the value of num: '))\n",
        "\n",
        "if spam > num:\n",
        "  print('spam is larger than the num')\n",
        "  spam = spam + 1\n",
        "  print('The final value of spam is: ', spam)\n",
        "\n",
        "else:\n",
        "  print('spam is smaller than the num')\n",
        "  print('The final value of spam is: ', spam)"
      ],
      "metadata": {
        "colab": {
          "base_uri": "https://localhost:8080/"
        },
        "id": "tZbRsn_lRsX6",
        "outputId": "71eab79e-01d1-4b0d-a185-7ec66dca3b9f"
      },
      "execution_count": null,
      "outputs": [
        {
          "output_type": "stream",
          "name": "stdout",
          "text": [
            "Enter the value of spam: 10\n",
            "Enter the value of num: 10\n",
            "spam is larger than the num\n",
            "The final value of spam is:  11\n"
          ]
        }
      ]
    },
    {
      "cell_type": "code",
      "source": [
        "spam = int(input('Enter the value of spam: \\n'))\n",
        "\n",
        "while spam < 5:\n",
        "  print('The initial value of spam', spam)\n",
        "  print('Hello World')\n",
        "  spam = spam + 1\n",
        "  print('The final value of spam', spam)"
      ],
      "metadata": {
        "colab": {
          "base_uri": "https://localhost:8080/"
        },
        "id": "d5Ve6YhtVFCt",
        "outputId": "12b79173-0753-4585-921c-f11030236401"
      },
      "execution_count": null,
      "outputs": [
        {
          "output_type": "stream",
          "name": "stdout",
          "text": [
            "Enter the value of spam: \n",
            "4\n",
            "The initial value of spam 4\n",
            "\n",
            " Hello World\n",
            "\n",
            " The final value of spam 5\n"
          ]
        }
      ]
    },
    {
      "cell_type": "code",
      "source": [
        "name = ''\n",
        "while not name:\n",
        "  print('Enter your name: ')\n",
        "  name = input()\n",
        "print('How many guests will you have?')\n",
        "\n",
        "numOfGuests = int(input())\n",
        "\n",
        "if numOfGuests:\n",
        "  print('Be sure to have enough room for all of your guest')\n",
        "\n",
        "print('Done')"
      ],
      "metadata": {
        "colab": {
          "base_uri": "https://localhost:8080/"
        },
        "id": "1X49VOHEerQx",
        "outputId": "a8e9c358-39f5-4de8-c5da-b44c34d1ee52"
      },
      "execution_count": null,
      "outputs": [
        {
          "output_type": "stream",
          "name": "stdout",
          "text": [
            "Enter your name: \n",
            "luke\n",
            "How many guests will you have?\n",
            "90\n",
            "Be sure to have enough room for all of your guest\n",
            "Done\n"
          ]
        }
      ]
    },
    {
      "cell_type": "code",
      "source": [
        "name = input('What is your name: ')\n",
        "print('My name is', name)\n",
        "for i in range(5):\n",
        "    print(name +  str(i))"
      ],
      "metadata": {
        "colab": {
          "base_uri": "https://localhost:8080/"
        },
        "id": "s1BmP-0OgJhI",
        "outputId": "72b940be-89a9-43c4-ed05-b21338c93743"
      },
      "execution_count": null,
      "outputs": [
        {
          "output_type": "stream",
          "name": "stdout",
          "text": [
            "What is your name: luke\n",
            "My name is luke\n",
            "luke0\n",
            "luke1\n",
            "luke2\n",
            "luke3\n",
            "luke4\n"
          ]
        }
      ]
    },
    {
      "cell_type": "code",
      "source": [
        "total = 0\n",
        "\n",
        "for num in range(101):\n",
        " # print(num)\n",
        "  total = total + num\n",
        "print(total)\n"
      ],
      "metadata": {
        "colab": {
          "base_uri": "https://localhost:8080/"
        },
        "id": "wg12ZrUhlZcg",
        "outputId": "dc2c25bb-fb01-43d0-ec75-3332f57efac8"
      },
      "execution_count": null,
      "outputs": [
        {
          "output_type": "stream",
          "name": "stdout",
          "text": [
            "5050\n"
          ]
        }
      ]
    },
    {
      "cell_type": "code",
      "source": [
        "for i in range(12, 16):\n",
        "  print(i)"
      ],
      "metadata": {
        "colab": {
          "base_uri": "https://localhost:8080/"
        },
        "id": "wMp6zLJFmWmu",
        "outputId": "e0d6f1f4-fb1f-49b7-fa25-9417f6637f8b"
      },
      "execution_count": null,
      "outputs": [
        {
          "output_type": "stream",
          "name": "stdout",
          "text": [
            "12\n",
            "13\n",
            "14\n",
            "15\n"
          ]
        }
      ]
    },
    {
      "cell_type": "code",
      "source": [
        "for i in range(0, 10, 2):\n",
        "  print(i)"
      ],
      "metadata": {
        "colab": {
          "base_uri": "https://localhost:8080/"
        },
        "id": "bED2UjXnmj7O",
        "outputId": "12436a50-cb90-4ad6-d373-902a2c4809f2"
      },
      "execution_count": null,
      "outputs": [
        {
          "output_type": "stream",
          "name": "stdout",
          "text": [
            "0\n",
            "2\n",
            "4\n",
            "6\n",
            "8\n"
          ]
        }
      ]
    },
    {
      "cell_type": "code",
      "source": [
        "for i in range(-10, -2, 2):\n",
        "  print(i)"
      ],
      "metadata": {
        "colab": {
          "base_uri": "https://localhost:8080/"
        },
        "id": "zrk9Eoz3mwgM",
        "outputId": "e6515ce6-1ffd-4eab-9800-557f6f579f4c"
      },
      "execution_count": null,
      "outputs": [
        {
          "output_type": "stream",
          "name": "stdout",
          "text": [
            "-10\n",
            "-8\n",
            "-6\n",
            "-4\n"
          ]
        }
      ]
    },
    {
      "cell_type": "code",
      "source": [
        "import random\n",
        "\n",
        "for i in range(5):\n",
        "  print(random.randint(1, 10))"
      ],
      "metadata": {
        "colab": {
          "base_uri": "https://localhost:8080/"
        },
        "id": "AysDQ40EnQhl",
        "outputId": "cc3af094-8696-46f5-9dc6-a2eb881461e5"
      },
      "execution_count": null,
      "outputs": [
        {
          "output_type": "stream",
          "name": "stdout",
          "text": [
            "7\n",
            "6\n",
            "10\n",
            "1\n",
            "2\n"
          ]
        }
      ]
    },
    {
      "cell_type": "code",
      "source": [
        "import sys\n",
        "\n",
        "while True:\n",
        "    print('Type exit to exit.')\n",
        "    response = input()\n",
        "    if response == 'exit':\n",
        "        sys.exit()\n",
        "    print('You typed ' + response + '.')"
      ],
      "metadata": {
        "colab": {
          "base_uri": "https://localhost:8080/",
          "height": 236
        },
        "id": "6jz7AJPdoQCl",
        "outputId": "71cb6bfb-bfab-4d81-aa32-eaeb159101a5"
      },
      "execution_count": null,
      "outputs": [
        {
          "name": "stdout",
          "output_type": "stream",
          "text": [
            "Type exit to exit.\n",
            "rtg\n",
            "You typed rtg.\n",
            "Type exit to exit.\n",
            "exit\n"
          ]
        },
        {
          "output_type": "error",
          "ename": "SystemExit",
          "evalue": "ignored",
          "traceback": [
            "An exception has occurred, use %tb to see the full traceback.\n",
            "\u001b[0;31mSystemExit\u001b[0m\n"
          ]
        },
        {
          "output_type": "stream",
          "name": "stderr",
          "text": [
            "/usr/local/lib/python3.10/dist-packages/IPython/core/interactiveshell.py:3561: UserWarning: To exit: use 'exit', 'quit', or Ctrl-D.\n",
            "  warn(\"To exit: use 'exit', 'quit', or Ctrl-D.\", stacklevel=1)\n"
          ]
        }
      ]
    },
    {
      "cell_type": "code",
      "source": [
        "# CHAPTER 03: Fucntion Started"
      ],
      "metadata": {
        "id": "akbIYkD0pMa1"
      },
      "execution_count": null,
      "outputs": []
    },
    {
      "cell_type": "code",
      "source": [
        "def hello():\n",
        "    print('How is it going !')\n",
        "    print('Good Morning ')\n",
        "\n",
        "hello()\n",
        "print('The fuction run for the first time: \\n')\n",
        "hello()\n",
        "print('The function run for the second time: \\n')\n",
        "hello()\n",
        "print('The function run for the third time: \\n')"
      ],
      "metadata": {
        "colab": {
          "base_uri": "https://localhost:8080/"
        },
        "id": "Rpe435obUFsS",
        "outputId": "5ff82b99-18f3-4b2f-ed6b-d163cc830453"
      },
      "execution_count": null,
      "outputs": [
        {
          "output_type": "stream",
          "name": "stdout",
          "text": [
            "How is it going !\n",
            "Good Morning \n",
            "The fuction run for the first time: \n",
            "\n",
            "How is it going !\n",
            "Good Morning \n",
            "The function run for the second time: \n",
            "\n",
            "How is it going !\n",
            "Good Morning \n",
            "The function run for the third time: \n",
            "\n"
          ]
        }
      ]
    },
    {
      "cell_type": "code",
      "source": [
        "def hello(name):\n",
        "  print('Hello, ' + name)\n",
        "\n",
        "hello('My Name is Alice')\n"
      ],
      "metadata": {
        "colab": {
          "base_uri": "https://localhost:8080/"
        },
        "id": "09iwo1NngfMm",
        "outputId": "f2bc12fe-ccc2-43b4-eae7-22bc76d4af98"
      },
      "execution_count": null,
      "outputs": [
        {
          "output_type": "stream",
          "name": "stdout",
          "text": [
            "Hello, My Name is Alice\n"
          ]
        }
      ]
    },
    {
      "cell_type": "code",
      "source": [
        "def sayHello(name):\n",
        "       print('Hello, ' + name)\n",
        "sayHello('Al')"
      ],
      "metadata": {
        "colab": {
          "base_uri": "https://localhost:8080/"
        },
        "id": "Co1V3FmGgiCY",
        "outputId": "176ef3e5-fbb4-460c-a7f0-ccb2058f6159"
      },
      "execution_count": null,
      "outputs": [
        {
          "output_type": "stream",
          "name": "stdout",
          "text": [
            "Hello, Al\n"
          ]
        }
      ]
    },
    {
      "cell_type": "code",
      "source": [
        "name = 'Hello'\n",
        "print(len(name))"
      ],
      "metadata": {
        "colab": {
          "base_uri": "https://localhost:8080/"
        },
        "id": "GE1lPVzKjOTN",
        "outputId": "efebe2ca-c3e4-4ec3-a1e7-e4eec4a3baf4"
      },
      "execution_count": null,
      "outputs": [
        {
          "output_type": "stream",
          "name": "stdout",
          "text": [
            "5\n"
          ]
        }
      ]
    },
    {
      "cell_type": "code",
      "source": [
        "import random\n",
        "\n",
        "def getAnswer(answerNumber):\n",
        "\n",
        "  if answerNumber == 1 :\n",
        "    return 'It is certain'\n",
        "\n",
        "  elif answerNumber == 2:\n",
        "    return 'It is decidedly so'\n",
        "\n",
        "  elif answerNumber == 3:\n",
        "    return 'Yes'\n",
        "\n",
        "  elif answerNumber == 4:\n",
        "    return 'Reply hazy try again'\n",
        "\n",
        "  elif answerNumber == 5:\n",
        "    return 'Ask again later'\n",
        "\n",
        "  elif answerNumber == 6:\n",
        "    return 'Concentrate and ask again'\n",
        "\n",
        "  elif answerNumber == 7:\n",
        "    return 'My reply is no'\n",
        "\n",
        "  elif answerNumber == 8:\n",
        "    return 'Outlook not so good'\n",
        "\n",
        "  elif answerNumber == 9:\n",
        "    return 'Very doubtful'\n",
        "\n",
        "r = random.randint(1, 3)\n",
        "fortune = getAnswer(r)\n",
        "print(fortune)"
      ],
      "metadata": {
        "colab": {
          "base_uri": "https://localhost:8080/"
        },
        "id": "IN_hsMxBju6A",
        "outputId": "f407e897-22ee-4937-c7f7-af9ea5aafb54"
      },
      "execution_count": null,
      "outputs": [
        {
          "output_type": "stream",
          "name": "stdout",
          "text": [
            "Yes\n"
          ]
        }
      ]
    },
    {
      "cell_type": "code",
      "source": [
        "print('Hello', end=' yo ')\n",
        "print('World')"
      ],
      "metadata": {
        "id": "FuMnGUHfkt1Q",
        "colab": {
          "base_uri": "https://localhost:8080/"
        },
        "outputId": "5f580807-6ca1-490d-e09e-52ee960e5673"
      },
      "execution_count": 4,
      "outputs": [
        {
          "output_type": "stream",
          "name": "stdout",
          "text": [
            "Hello yo World\n"
          ]
        }
      ]
    },
    {
      "cell_type": "code",
      "source": [
        "print('cats', 'dogs', 'mice', sep = ' hala ')\n"
      ],
      "metadata": {
        "colab": {
          "base_uri": "https://localhost:8080/"
        },
        "id": "jmrC0pQurvi0",
        "outputId": "9b761666-e2d0-40a6-d2da-6067c639d74f"
      },
      "execution_count": 7,
      "outputs": [
        {
          "output_type": "stream",
          "name": "stdout",
          "text": [
            "cats hala dogs hala mice\n"
          ]
        }
      ]
    },
    {
      "cell_type": "code",
      "source": [
        "def a():\n",
        "  print('a() starts')\n",
        "  b()\n",
        "  d()\n",
        "  print('a() returns')\n",
        "\n",
        "def b():\n",
        "  print('b() starts')\n",
        "  c()\n",
        "  print('b() returns')\n",
        "\n",
        "def c():\n",
        "  print('c() starts')\n",
        "  print('c() returns')\n",
        "\n",
        "def d():\n",
        "  print('d() starts')\n",
        "  print('d() returns')\n",
        "\n",
        "a()"
      ],
      "metadata": {
        "colab": {
          "base_uri": "https://localhost:8080/"
        },
        "id": "0-IB1gBevFTq",
        "outputId": "4d15edb0-2757-4fed-b7b4-c407ce4cd2da"
      },
      "execution_count": 13,
      "outputs": [
        {
          "output_type": "stream",
          "name": "stdout",
          "text": [
            "a() starts\n",
            "b() starts\n",
            "c() starts\n",
            "c() returns\n",
            "b() returns\n",
            "d() starts\n",
            "d() returns\n",
            "a() returns\n"
          ]
        }
      ]
    },
    {
      "cell_type": "code",
      "source": [
        "def spam():\n",
        "  eggs = 31337\n",
        "spam()\n",
        "print(eggs)"
      ],
      "metadata": {
        "colab": {
          "base_uri": "https://localhost:8080/",
          "height": 201
        },
        "id": "vqJySmPbFXJk",
        "outputId": "4cdab297-7ced-497b-b496-c7bd129bbe30"
      },
      "execution_count": 14,
      "outputs": [
        {
          "output_type": "error",
          "ename": "NameError",
          "evalue": "ignored",
          "traceback": [
            "\u001b[0;31m---------------------------------------------------------------------------\u001b[0m",
            "\u001b[0;31mNameError\u001b[0m                                 Traceback (most recent call last)",
            "\u001b[0;32m<ipython-input-14-ee3c448ed1cd>\u001b[0m in \u001b[0;36m<cell line: 4>\u001b[0;34m()\u001b[0m\n\u001b[1;32m      2\u001b[0m   \u001b[0meggs\u001b[0m \u001b[0;34m=\u001b[0m \u001b[0;36m31337\u001b[0m\u001b[0;34m\u001b[0m\u001b[0;34m\u001b[0m\u001b[0m\n\u001b[1;32m      3\u001b[0m \u001b[0mspam\u001b[0m\u001b[0;34m(\u001b[0m\u001b[0;34m)\u001b[0m\u001b[0;34m\u001b[0m\u001b[0;34m\u001b[0m\u001b[0m\n\u001b[0;32m----> 4\u001b[0;31m \u001b[0mprint\u001b[0m\u001b[0;34m(\u001b[0m\u001b[0meggs\u001b[0m\u001b[0;34m)\u001b[0m\u001b[0;34m\u001b[0m\u001b[0;34m\u001b[0m\u001b[0m\n\u001b[0m",
            "\u001b[0;31mNameError\u001b[0m: name 'eggs' is not defined"
          ]
        }
      ]
    },
    {
      "cell_type": "code",
      "source": [
        "# Local Scopes Cannot Use Variables in Other Local Scopes\n",
        "\n",
        "def spam():\n",
        "    eggs = 99\n",
        "    bacon()\n",
        "    print(eggs)\n",
        "\n",
        "def bacon():\n",
        "    ham = 101\n",
        "    eggs = 0\n",
        "\n",
        "spam()"
      ],
      "metadata": {
        "colab": {
          "base_uri": "https://localhost:8080/"
        },
        "id": "jn6towUqFpNM",
        "outputId": "bfcc90a9-32bb-4895-ae02-cb6a005596dd"
      },
      "execution_count": 15,
      "outputs": [
        {
          "output_type": "stream",
          "name": "stdout",
          "text": [
            "99\n"
          ]
        }
      ]
    },
    {
      "cell_type": "code",
      "source": [
        "def spam():\n",
        "    print(eggs)\n",
        "eggs = 42\n",
        "spam()\n",
        "print(eggs)"
      ],
      "metadata": {
        "colab": {
          "base_uri": "https://localhost:8080/"
        },
        "id": "nSBr_Co7Iwwz",
        "outputId": "22baccb3-6c97-4639-9ac4-972663d4f1ff"
      },
      "execution_count": 16,
      "outputs": [
        {
          "output_type": "stream",
          "name": "stdout",
          "text": [
            "42\n",
            "42\n"
          ]
        }
      ]
    },
    {
      "cell_type": "code",
      "source": [
        "def spam():\n",
        "  global eggs\n",
        "  eggs = 'spam'\n",
        "\n",
        "eggs = 'global'\n",
        "spam()\n",
        "print(eggs)"
      ],
      "metadata": {
        "id": "Hp44XEmBJc0C"
      },
      "execution_count": null,
      "outputs": []
    },
    {
      "cell_type": "code",
      "source": [
        "def spam(divideBy):\n",
        "    return 42 / divideBy\n",
        "\n",
        "print(spam(2))\n",
        "print(spam(12))\n",
        "print(spam(0))\n",
        "print(spam(1))\n"
      ],
      "metadata": {
        "colab": {
          "base_uri": "https://localhost:8080/",
          "height": 374
        },
        "id": "Mood-QC5MeqK",
        "outputId": "af4f6734-6710-41cb-95ee-7c4cb039546f"
      },
      "execution_count": 17,
      "outputs": [
        {
          "output_type": "stream",
          "name": "stdout",
          "text": [
            "21.0\n",
            "3.5\n"
          ]
        },
        {
          "output_type": "error",
          "ename": "ZeroDivisionError",
          "evalue": "ignored",
          "traceback": [
            "\u001b[0;31m---------------------------------------------------------------------------\u001b[0m",
            "\u001b[0;31mZeroDivisionError\u001b[0m                         Traceback (most recent call last)",
            "\u001b[0;32m<ipython-input-17-cce18d473349>\u001b[0m in \u001b[0;36m<cell line: 6>\u001b[0;34m()\u001b[0m\n\u001b[1;32m      4\u001b[0m \u001b[0mprint\u001b[0m\u001b[0;34m(\u001b[0m\u001b[0mspam\u001b[0m\u001b[0;34m(\u001b[0m\u001b[0;36m2\u001b[0m\u001b[0;34m)\u001b[0m\u001b[0;34m)\u001b[0m\u001b[0;34m\u001b[0m\u001b[0;34m\u001b[0m\u001b[0m\n\u001b[1;32m      5\u001b[0m \u001b[0mprint\u001b[0m\u001b[0;34m(\u001b[0m\u001b[0mspam\u001b[0m\u001b[0;34m(\u001b[0m\u001b[0;36m12\u001b[0m\u001b[0;34m)\u001b[0m\u001b[0;34m)\u001b[0m\u001b[0;34m\u001b[0m\u001b[0;34m\u001b[0m\u001b[0m\n\u001b[0;32m----> 6\u001b[0;31m \u001b[0mprint\u001b[0m\u001b[0;34m(\u001b[0m\u001b[0mspam\u001b[0m\u001b[0;34m(\u001b[0m\u001b[0;36m0\u001b[0m\u001b[0;34m)\u001b[0m\u001b[0;34m)\u001b[0m\u001b[0;34m\u001b[0m\u001b[0;34m\u001b[0m\u001b[0m\n\u001b[0m\u001b[1;32m      7\u001b[0m \u001b[0mprint\u001b[0m\u001b[0;34m(\u001b[0m\u001b[0mspam\u001b[0m\u001b[0;34m(\u001b[0m\u001b[0;36m1\u001b[0m\u001b[0;34m)\u001b[0m\u001b[0;34m)\u001b[0m\u001b[0;34m\u001b[0m\u001b[0;34m\u001b[0m\u001b[0m\n",
            "\u001b[0;32m<ipython-input-17-cce18d473349>\u001b[0m in \u001b[0;36mspam\u001b[0;34m(divideBy)\u001b[0m\n\u001b[1;32m      1\u001b[0m \u001b[0;32mdef\u001b[0m \u001b[0mspam\u001b[0m\u001b[0;34m(\u001b[0m\u001b[0mdivideBy\u001b[0m\u001b[0;34m)\u001b[0m\u001b[0;34m:\u001b[0m\u001b[0;34m\u001b[0m\u001b[0;34m\u001b[0m\u001b[0m\n\u001b[0;32m----> 2\u001b[0;31m     \u001b[0;32mreturn\u001b[0m \u001b[0;36m42\u001b[0m \u001b[0;34m/\u001b[0m \u001b[0mdivideBy\u001b[0m\u001b[0;34m\u001b[0m\u001b[0;34m\u001b[0m\u001b[0m\n\u001b[0m\u001b[1;32m      3\u001b[0m \u001b[0;34m\u001b[0m\u001b[0m\n\u001b[1;32m      4\u001b[0m \u001b[0mprint\u001b[0m\u001b[0;34m(\u001b[0m\u001b[0mspam\u001b[0m\u001b[0;34m(\u001b[0m\u001b[0;36m2\u001b[0m\u001b[0;34m)\u001b[0m\u001b[0;34m)\u001b[0m\u001b[0;34m\u001b[0m\u001b[0;34m\u001b[0m\u001b[0m\n\u001b[1;32m      5\u001b[0m \u001b[0mprint\u001b[0m\u001b[0;34m(\u001b[0m\u001b[0mspam\u001b[0m\u001b[0;34m(\u001b[0m\u001b[0;36m12\u001b[0m\u001b[0;34m)\u001b[0m\u001b[0;34m)\u001b[0m\u001b[0;34m\u001b[0m\u001b[0;34m\u001b[0m\u001b[0m\n",
            "\u001b[0;31mZeroDivisionError\u001b[0m: division by zero"
          ]
        }
      ]
    },
    {
      "cell_type": "code",
      "source": [
        "def spam(divideBy):\n",
        "    try:\n",
        "        return 42 / divideBy\n",
        "    except ZeroDivisionError:\n",
        "        print('Error: Invalid argument.')\n",
        "\n",
        "print(spam(2))\n",
        "print(spam(12))\n",
        "print(spam(0))\n",
        "print(spam(1))"
      ],
      "metadata": {
        "colab": {
          "base_uri": "https://localhost:8080/"
        },
        "id": "t52MWIHiMixx",
        "outputId": "bbb33eb2-b672-49be-b9ee-54a5d7adf2fa"
      },
      "execution_count": 18,
      "outputs": [
        {
          "output_type": "stream",
          "name": "stdout",
          "text": [
            "21.0\n",
            "3.5\n",
            "Error: Invalid argument.\n",
            "None\n",
            "42.0\n"
          ]
        }
      ]
    },
    {
      "cell_type": "code",
      "source": [
        "def spam(divideBy):\n",
        "    return 42 / divideBy\n",
        "\n",
        "try:\n",
        "    print(spam(2))\n",
        "    print(spam(12))\n",
        "    print(spam(0))\n",
        "    print(spam(1))\n",
        "except ZeroDivisionError:\n",
        "    print('Error: Invalid argument.')"
      ],
      "metadata": {
        "colab": {
          "base_uri": "https://localhost:8080/"
        },
        "id": "t-pogqpWMtO4",
        "outputId": "5f334972-a29b-478f-d4b5-99d4bc3ad6a7"
      },
      "execution_count": 19,
      "outputs": [
        {
          "output_type": "stream",
          "name": "stdout",
          "text": [
            "21.0\n",
            "3.5\n",
            "Error: Invalid argument.\n"
          ]
        }
      ]
    },
    {
      "cell_type": "code",
      "source": [
        "import time, sys\n",
        "indent = 0 # How many spaces to indent.\n",
        "indentIncreasing = True # Whether the indentation is increasing or not.\n",
        "\n",
        "try:\n",
        "    while True: # The main program loop.\n",
        "        print(' ' * indent, end='')\n",
        "        print('********')\n",
        "        time.sleep(0.1) # Pause for 1/10 of a second.\n",
        "\n",
        "        if indentIncreasing:\n",
        "            # Increase the number of spaces:\n",
        "            indent = indent + 1\n",
        "            if indent == 20:\n",
        "                # Change direction:\n",
        "                indentIncreasing = False\n",
        "\n",
        "        else:\n",
        "            # Decrease the number of spaces:\n",
        "            indent = indent - 1\n",
        "            if indent == 0:\n",
        "                # Change direction:\n",
        "                indentIncreasing = True\n",
        "except KeyboardInterrupt:\n",
        "    sys.exit()"
      ],
      "metadata": {
        "colab": {
          "base_uri": "https://localhost:8080/",
          "height": 1000
        },
        "id": "-0CRBjeeM7Pg",
        "outputId": "05cf5580-9502-4913-ebd4-9e05b31f93d8"
      },
      "execution_count": 20,
      "outputs": [
        {
          "output_type": "stream",
          "name": "stdout",
          "text": [
            "********\n",
            " ********\n",
            "  ********\n",
            "   ********\n",
            "    ********\n",
            "     ********\n",
            "      ********\n",
            "       ********\n",
            "        ********\n",
            "         ********\n",
            "          ********\n",
            "           ********\n",
            "            ********\n",
            "             ********\n",
            "              ********\n",
            "               ********\n",
            "                ********\n",
            "                 ********\n",
            "                  ********\n",
            "                   ********\n",
            "                    ********\n",
            "                   ********\n",
            "                  ********\n",
            "                 ********\n",
            "                ********\n",
            "               ********\n",
            "              ********\n",
            "             ********\n",
            "            ********\n",
            "           ********\n",
            "          ********\n",
            "         ********\n",
            "        ********\n",
            "       ********\n",
            "      ********\n",
            "     ********\n",
            "    ********\n",
            "   ********\n",
            "  ********\n",
            " ********\n",
            "********\n",
            " ********\n",
            "  ********\n",
            "   ********\n",
            "    ********\n",
            "     ********\n",
            "      ********\n",
            "       ********\n",
            "        ********\n",
            "         ********\n",
            "          ********\n",
            "           ********\n",
            "            ********\n",
            "             ********\n",
            "              ********\n",
            "               ********\n",
            "                ********\n",
            "                 ********\n",
            "                  ********\n",
            "                   ********\n",
            "                    ********\n",
            "                   ********\n",
            "                  ********\n",
            "                 ********\n",
            "                ********\n",
            "               ********\n",
            "              ********\n",
            "             ********\n",
            "            ********\n",
            "           ********\n",
            "          ********\n",
            "         ********\n",
            "        ********\n",
            "       ********\n",
            "      ********\n",
            "     ********\n",
            "    ********\n",
            "   ********\n",
            "  ********\n",
            " ********\n",
            "********\n",
            " ********\n",
            "  ********\n",
            "   ********\n",
            "    ********\n",
            "     ********\n",
            "      ********\n",
            "       ********\n",
            "        ********\n",
            "         ********\n",
            "          ********\n",
            "           ********\n",
            "            ********\n",
            "             ********\n",
            "              ********\n",
            "               ********\n",
            "                ********\n",
            "                 ********\n",
            "                  ********\n",
            "                   ********\n",
            "                    ********\n",
            "                   ********\n",
            "                  ********\n",
            "                 ********\n",
            "                ********\n",
            "               ********\n",
            "              ********\n",
            "             ********\n",
            "            ********\n",
            "           ********\n",
            "          ********\n",
            "         ********\n",
            "        ********\n",
            "       ********\n",
            "      ********\n",
            "     ********\n",
            "    ********\n",
            "   ********\n",
            "  ********\n",
            " ********\n",
            "********\n",
            " ********\n",
            "  ********\n",
            "   ********\n",
            "    ********\n",
            "     ********\n",
            "      ********\n",
            "       ********\n",
            "        ********\n",
            "         ********\n",
            "          ********\n",
            "           ********\n",
            "            ********\n",
            "             ********\n",
            "              ********\n",
            "               ********\n",
            "                ********\n",
            "                 ********\n",
            "                  ********\n",
            "                   ********\n",
            "                    ********\n",
            "                   ********\n",
            "                  ********\n",
            "                 ********\n",
            "                ********\n",
            "               ********\n",
            "              ********\n",
            "             ********\n",
            "            ********\n",
            "           ********\n",
            "          ********\n",
            "         ********\n",
            "        ********\n",
            "       ********\n",
            "      ********\n",
            "     ********\n",
            "    ********\n",
            "   ********\n",
            "  ********\n",
            " ********\n",
            "********\n",
            " ********\n",
            "  ********\n",
            "   ********\n",
            "    ********\n",
            "     ********\n",
            "      ********\n",
            "       ********\n",
            "        ********\n",
            "         ********\n",
            "          ********\n",
            "           ********\n",
            "            ********\n",
            "             ********\n",
            "              ********\n",
            "               ********\n",
            "                ********\n",
            "                 ********\n",
            "                  ********\n",
            "                   ********\n",
            "                    ********\n",
            "                   ********\n",
            "                  ********\n",
            "                 ********\n",
            "                ********\n",
            "               ********\n",
            "              ********\n",
            "             ********\n",
            "            ********\n",
            "           ********\n",
            "          ********\n",
            "         ********\n",
            "        ********\n",
            "       ********\n",
            "      ********\n",
            "     ********\n",
            "    ********\n",
            "   ********\n",
            "  ********\n",
            " ********\n",
            "********\n",
            " ********\n",
            "  ********\n",
            "   ********\n",
            "    ********\n",
            "     ********\n",
            "      ********\n",
            "       ********\n",
            "        ********\n",
            "         ********\n",
            "          ********\n",
            "           ********\n",
            "            ********\n",
            "             ********\n",
            "              ********\n",
            "               ********\n",
            "                ********\n",
            "                 ********\n",
            "                  ********\n",
            "                   ********\n",
            "                    ********\n",
            "                   ********\n",
            "                  ********\n",
            "                 ********\n",
            "                ********\n",
            "               ********\n",
            "              ********\n",
            "             ********\n",
            "            ********\n",
            "           ********\n",
            "          ********\n",
            "         ********\n",
            "        ********\n",
            "       ********\n",
            "      ********\n",
            "     ********\n",
            "    ********\n",
            "   ********\n",
            "  ********\n",
            " ********\n",
            "********\n",
            " ********\n",
            "  ********\n",
            "   ********\n"
          ]
        },
        {
          "output_type": "stream",
          "name": "stderr",
          "text": [
            "ERROR:root:Internal Python error in the inspect module.\n",
            "Below is the traceback from this internal error.\n",
            "\n"
          ]
        },
        {
          "output_type": "stream",
          "name": "stdout",
          "text": [
            "Traceback (most recent call last):\n",
            "  File \"<ipython-input-20-4a7fe06d4580>\", line 9, in <cell line: 5>\n",
            "    time.sleep(0.1) # Pause for 1/10 of a second.\n",
            "KeyboardInterrupt\n",
            "\n",
            "During handling of the above exception, another exception occurred:\n",
            "\n",
            "Traceback (most recent call last):\n",
            "  File \"/usr/local/lib/python3.10/dist-packages/IPython/core/interactiveshell.py\", line 3553, in run_code\n",
            "    exec(code_obj, self.user_global_ns, self.user_ns)\n",
            "  File \"<ipython-input-20-4a7fe06d4580>\", line 25, in <cell line: 5>\n",
            "    sys.exit()\n",
            "SystemExit\n",
            "\n",
            "During handling of the above exception, another exception occurred:\n",
            "\n",
            "Traceback (most recent call last):\n",
            "  File \"/usr/local/lib/python3.10/dist-packages/IPython/core/ultratb.py\", line 1101, in get_records\n",
            "    return _fixed_getinnerframes(etb, number_of_lines_of_context, tb_offset)\n",
            "  File \"/usr/local/lib/python3.10/dist-packages/IPython/core/ultratb.py\", line 248, in wrapped\n",
            "    return f(*args, **kwargs)\n",
            "  File \"/usr/local/lib/python3.10/dist-packages/IPython/core/ultratb.py\", line 281, in _fixed_getinnerframes\n",
            "    records = fix_frame_records_filenames(inspect.getinnerframes(etb, context))\n",
            "  File \"/usr/lib/python3.10/inspect.py\", line 1662, in getinnerframes\n",
            "    frameinfo = (tb.tb_frame,) + getframeinfo(tb, context)\n",
            "AttributeError: 'tuple' object has no attribute 'tb_frame'\n"
          ]
        },
        {
          "output_type": "error",
          "ename": "TypeError",
          "evalue": "ignored",
          "traceback": [
            "\u001b[0;31m---------------------------------------------------------------------------\u001b[0m",
            "\u001b[0;31mKeyboardInterrupt\u001b[0m                         Traceback (most recent call last)",
            "\u001b[0;32m<ipython-input-20-4a7fe06d4580>\u001b[0m in \u001b[0;36m<cell line: 5>\u001b[0;34m()\u001b[0m\n\u001b[1;32m      8\u001b[0m         \u001b[0mprint\u001b[0m\u001b[0;34m(\u001b[0m\u001b[0;34m'********'\u001b[0m\u001b[0;34m)\u001b[0m\u001b[0;34m\u001b[0m\u001b[0;34m\u001b[0m\u001b[0m\n\u001b[0;32m----> 9\u001b[0;31m         \u001b[0mtime\u001b[0m\u001b[0;34m.\u001b[0m\u001b[0msleep\u001b[0m\u001b[0;34m(\u001b[0m\u001b[0;36m0.1\u001b[0m\u001b[0;34m)\u001b[0m \u001b[0;31m# Pause for 1/10 of a second.\u001b[0m\u001b[0;34m\u001b[0m\u001b[0;34m\u001b[0m\u001b[0m\n\u001b[0m\u001b[1;32m     10\u001b[0m \u001b[0;34m\u001b[0m\u001b[0m\n",
            "\u001b[0;31mKeyboardInterrupt\u001b[0m: ",
            "\nDuring handling of the above exception, another exception occurred:\n",
            "\u001b[0;31mSystemExit\u001b[0m                                Traceback (most recent call last)",
            "    \u001b[0;31m[... skipping hidden 1 frame]\u001b[0m\n",
            "\u001b[0;32m<ipython-input-20-4a7fe06d4580>\u001b[0m in \u001b[0;36m<cell line: 5>\u001b[0;34m()\u001b[0m\n\u001b[1;32m     24\u001b[0m \u001b[0;32mexcept\u001b[0m \u001b[0mKeyboardInterrupt\u001b[0m\u001b[0;34m:\u001b[0m\u001b[0;34m\u001b[0m\u001b[0;34m\u001b[0m\u001b[0m\n\u001b[0;32m---> 25\u001b[0;31m     \u001b[0msys\u001b[0m\u001b[0;34m.\u001b[0m\u001b[0mexit\u001b[0m\u001b[0;34m(\u001b[0m\u001b[0;34m)\u001b[0m\u001b[0;34m\u001b[0m\u001b[0;34m\u001b[0m\u001b[0m\n\u001b[0m",
            "\u001b[0;31mSystemExit\u001b[0m: ",
            "\nDuring handling of the above exception, another exception occurred:\n",
            "\u001b[0;31mTypeError\u001b[0m                                 Traceback (most recent call last)",
            "    \u001b[0;31m[... skipping hidden 1 frame]\u001b[0m\n",
            "\u001b[0;32m/usr/local/lib/python3.10/dist-packages/IPython/core/interactiveshell.py\u001b[0m in \u001b[0;36mshowtraceback\u001b[0;34m(self, exc_tuple, filename, tb_offset, exception_only, running_compiled_code)\u001b[0m\n\u001b[1;32m   2090\u001b[0m                     stb = ['An exception has occurred, use %tb to see '\n\u001b[1;32m   2091\u001b[0m                            'the full traceback.\\n']\n\u001b[0;32m-> 2092\u001b[0;31m                     stb.extend(self.InteractiveTB.get_exception_only(etype,\n\u001b[0m\u001b[1;32m   2093\u001b[0m                                                                      value))\n\u001b[1;32m   2094\u001b[0m                 \u001b[0;32melse\u001b[0m\u001b[0;34m:\u001b[0m\u001b[0;34m\u001b[0m\u001b[0;34m\u001b[0m\u001b[0m\n",
            "\u001b[0;32m/usr/local/lib/python3.10/dist-packages/IPython/core/ultratb.py\u001b[0m in \u001b[0;36mget_exception_only\u001b[0;34m(self, etype, value)\u001b[0m\n\u001b[1;32m    752\u001b[0m         \u001b[0mvalue\u001b[0m \u001b[0;34m:\u001b[0m \u001b[0mexception\u001b[0m \u001b[0mvalue\u001b[0m\u001b[0;34m\u001b[0m\u001b[0;34m\u001b[0m\u001b[0m\n\u001b[1;32m    753\u001b[0m         \"\"\"\n\u001b[0;32m--> 754\u001b[0;31m         \u001b[0;32mreturn\u001b[0m \u001b[0mListTB\u001b[0m\u001b[0;34m.\u001b[0m\u001b[0mstructured_traceback\u001b[0m\u001b[0;34m(\u001b[0m\u001b[0mself\u001b[0m\u001b[0;34m,\u001b[0m \u001b[0metype\u001b[0m\u001b[0;34m,\u001b[0m \u001b[0mvalue\u001b[0m\u001b[0;34m)\u001b[0m\u001b[0;34m\u001b[0m\u001b[0;34m\u001b[0m\u001b[0m\n\u001b[0m\u001b[1;32m    755\u001b[0m \u001b[0;34m\u001b[0m\u001b[0m\n\u001b[1;32m    756\u001b[0m     \u001b[0;32mdef\u001b[0m \u001b[0mshow_exception_only\u001b[0m\u001b[0;34m(\u001b[0m\u001b[0mself\u001b[0m\u001b[0;34m,\u001b[0m \u001b[0metype\u001b[0m\u001b[0;34m,\u001b[0m \u001b[0mevalue\u001b[0m\u001b[0;34m)\u001b[0m\u001b[0;34m:\u001b[0m\u001b[0;34m\u001b[0m\u001b[0;34m\u001b[0m\u001b[0m\n",
            "\u001b[0;32m/usr/local/lib/python3.10/dist-packages/IPython/core/ultratb.py\u001b[0m in \u001b[0;36mstructured_traceback\u001b[0;34m(self, etype, evalue, etb, tb_offset, context)\u001b[0m\n\u001b[1;32m    627\u001b[0m             \u001b[0mchained_exceptions_tb_offset\u001b[0m \u001b[0;34m=\u001b[0m \u001b[0;36m0\u001b[0m\u001b[0;34m\u001b[0m\u001b[0;34m\u001b[0m\u001b[0m\n\u001b[1;32m    628\u001b[0m             out_list = (\n\u001b[0;32m--> 629\u001b[0;31m                 self.structured_traceback(\n\u001b[0m\u001b[1;32m    630\u001b[0m                     \u001b[0metype\u001b[0m\u001b[0;34m,\u001b[0m \u001b[0mevalue\u001b[0m\u001b[0;34m,\u001b[0m \u001b[0;34m(\u001b[0m\u001b[0metb\u001b[0m\u001b[0;34m,\u001b[0m \u001b[0mchained_exc_ids\u001b[0m\u001b[0;34m)\u001b[0m\u001b[0;34m,\u001b[0m\u001b[0;34m\u001b[0m\u001b[0;34m\u001b[0m\u001b[0m\n\u001b[1;32m    631\u001b[0m                     chained_exceptions_tb_offset, context)\n",
            "\u001b[0;32m/usr/local/lib/python3.10/dist-packages/IPython/core/ultratb.py\u001b[0m in \u001b[0;36mstructured_traceback\u001b[0;34m(self, etype, value, tb, tb_offset, number_of_lines_of_context)\u001b[0m\n\u001b[1;32m   1365\u001b[0m         \u001b[0;32melse\u001b[0m\u001b[0;34m:\u001b[0m\u001b[0;34m\u001b[0m\u001b[0;34m\u001b[0m\u001b[0m\n\u001b[1;32m   1366\u001b[0m             \u001b[0mself\u001b[0m\u001b[0;34m.\u001b[0m\u001b[0mtb\u001b[0m \u001b[0;34m=\u001b[0m \u001b[0mtb\u001b[0m\u001b[0;34m\u001b[0m\u001b[0;34m\u001b[0m\u001b[0m\n\u001b[0;32m-> 1367\u001b[0;31m         return FormattedTB.structured_traceback(\n\u001b[0m\u001b[1;32m   1368\u001b[0m             self, etype, value, tb, tb_offset, number_of_lines_of_context)\n\u001b[1;32m   1369\u001b[0m \u001b[0;34m\u001b[0m\u001b[0m\n",
            "\u001b[0;32m/usr/local/lib/python3.10/dist-packages/IPython/core/ultratb.py\u001b[0m in \u001b[0;36mstructured_traceback\u001b[0;34m(self, etype, value, tb, tb_offset, number_of_lines_of_context)\u001b[0m\n\u001b[1;32m   1265\u001b[0m         \u001b[0;32mif\u001b[0m \u001b[0mmode\u001b[0m \u001b[0;32min\u001b[0m \u001b[0mself\u001b[0m\u001b[0;34m.\u001b[0m\u001b[0mverbose_modes\u001b[0m\u001b[0;34m:\u001b[0m\u001b[0;34m\u001b[0m\u001b[0;34m\u001b[0m\u001b[0m\n\u001b[1;32m   1266\u001b[0m             \u001b[0;31m# Verbose modes need a full traceback\u001b[0m\u001b[0;34m\u001b[0m\u001b[0;34m\u001b[0m\u001b[0m\n\u001b[0;32m-> 1267\u001b[0;31m             return VerboseTB.structured_traceback(\n\u001b[0m\u001b[1;32m   1268\u001b[0m                 \u001b[0mself\u001b[0m\u001b[0;34m,\u001b[0m \u001b[0metype\u001b[0m\u001b[0;34m,\u001b[0m \u001b[0mvalue\u001b[0m\u001b[0;34m,\u001b[0m \u001b[0mtb\u001b[0m\u001b[0;34m,\u001b[0m \u001b[0mtb_offset\u001b[0m\u001b[0;34m,\u001b[0m \u001b[0mnumber_of_lines_of_context\u001b[0m\u001b[0;34m\u001b[0m\u001b[0;34m\u001b[0m\u001b[0m\n\u001b[1;32m   1269\u001b[0m             )\n",
            "\u001b[0;32m/usr/local/lib/python3.10/dist-packages/IPython/core/ultratb.py\u001b[0m in \u001b[0;36mstructured_traceback\u001b[0;34m(self, etype, evalue, etb, tb_offset, number_of_lines_of_context)\u001b[0m\n\u001b[1;32m   1122\u001b[0m         \u001b[0;34m\"\"\"Return a nice text document describing the traceback.\"\"\"\u001b[0m\u001b[0;34m\u001b[0m\u001b[0;34m\u001b[0m\u001b[0m\n\u001b[1;32m   1123\u001b[0m \u001b[0;34m\u001b[0m\u001b[0m\n\u001b[0;32m-> 1124\u001b[0;31m         formatted_exception = self.format_exception_as_a_whole(etype, evalue, etb, number_of_lines_of_context,\n\u001b[0m\u001b[1;32m   1125\u001b[0m                                                                tb_offset)\n\u001b[1;32m   1126\u001b[0m \u001b[0;34m\u001b[0m\u001b[0m\n",
            "\u001b[0;32m/usr/local/lib/python3.10/dist-packages/IPython/core/ultratb.py\u001b[0m in \u001b[0;36mformat_exception_as_a_whole\u001b[0;34m(self, etype, evalue, etb, number_of_lines_of_context, tb_offset)\u001b[0m\n\u001b[1;32m   1080\u001b[0m \u001b[0;34m\u001b[0m\u001b[0m\n\u001b[1;32m   1081\u001b[0m \u001b[0;34m\u001b[0m\u001b[0m\n\u001b[0;32m-> 1082\u001b[0;31m         \u001b[0mlast_unique\u001b[0m\u001b[0;34m,\u001b[0m \u001b[0mrecursion_repeat\u001b[0m \u001b[0;34m=\u001b[0m \u001b[0mfind_recursion\u001b[0m\u001b[0;34m(\u001b[0m\u001b[0morig_etype\u001b[0m\u001b[0;34m,\u001b[0m \u001b[0mevalue\u001b[0m\u001b[0;34m,\u001b[0m \u001b[0mrecords\u001b[0m\u001b[0;34m)\u001b[0m\u001b[0;34m\u001b[0m\u001b[0;34m\u001b[0m\u001b[0m\n\u001b[0m\u001b[1;32m   1083\u001b[0m \u001b[0;34m\u001b[0m\u001b[0m\n\u001b[1;32m   1084\u001b[0m         \u001b[0mframes\u001b[0m \u001b[0;34m=\u001b[0m \u001b[0mself\u001b[0m\u001b[0;34m.\u001b[0m\u001b[0mformat_records\u001b[0m\u001b[0;34m(\u001b[0m\u001b[0mrecords\u001b[0m\u001b[0;34m,\u001b[0m \u001b[0mlast_unique\u001b[0m\u001b[0;34m,\u001b[0m \u001b[0mrecursion_repeat\u001b[0m\u001b[0;34m)\u001b[0m\u001b[0;34m\u001b[0m\u001b[0;34m\u001b[0m\u001b[0m\n",
            "\u001b[0;32m/usr/local/lib/python3.10/dist-packages/IPython/core/ultratb.py\u001b[0m in \u001b[0;36mfind_recursion\u001b[0;34m(etype, value, records)\u001b[0m\n\u001b[1;32m    380\u001b[0m     \u001b[0;31m# first frame (from in to out) that looks different.\u001b[0m\u001b[0;34m\u001b[0m\u001b[0;34m\u001b[0m\u001b[0m\n\u001b[1;32m    381\u001b[0m     \u001b[0;32mif\u001b[0m \u001b[0;32mnot\u001b[0m \u001b[0mis_recursion_error\u001b[0m\u001b[0;34m(\u001b[0m\u001b[0metype\u001b[0m\u001b[0;34m,\u001b[0m \u001b[0mvalue\u001b[0m\u001b[0;34m,\u001b[0m \u001b[0mrecords\u001b[0m\u001b[0;34m)\u001b[0m\u001b[0;34m:\u001b[0m\u001b[0;34m\u001b[0m\u001b[0;34m\u001b[0m\u001b[0m\n\u001b[0;32m--> 382\u001b[0;31m         \u001b[0;32mreturn\u001b[0m \u001b[0mlen\u001b[0m\u001b[0;34m(\u001b[0m\u001b[0mrecords\u001b[0m\u001b[0;34m)\u001b[0m\u001b[0;34m,\u001b[0m \u001b[0;36m0\u001b[0m\u001b[0;34m\u001b[0m\u001b[0;34m\u001b[0m\u001b[0m\n\u001b[0m\u001b[1;32m    383\u001b[0m \u001b[0;34m\u001b[0m\u001b[0m\n\u001b[1;32m    384\u001b[0m     \u001b[0;31m# Select filename, lineno, func_name to track frames with\u001b[0m\u001b[0;34m\u001b[0m\u001b[0;34m\u001b[0m\u001b[0m\n",
            "\u001b[0;31mTypeError\u001b[0m: object of type 'NoneType' has no len()"
          ]
        }
      ]
    },
    {
      "cell_type": "code",
      "source": [
        "# Chapter 04: Lists"
      ],
      "metadata": {
        "id": "kI9VGZ2hOF0B"
      },
      "execution_count": null,
      "outputs": []
    },
    {
      "cell_type": "code",
      "source": [
        "catNames = []\n",
        "while True:\n",
        "    print('Enter the name of cat ' + str(len(catNames) + 1) +\n",
        "      ' (Or enter nothing to stop.):')\n",
        "    name = input()\n",
        "    if name == '':\n",
        "        break\n",
        "    catNames = catNames + [name]  # list concatenation\n",
        "print('The cat names are:')\n",
        "for name in catNames:\n",
        "    print('  ' + name)"
      ],
      "metadata": {
        "id": "KbPGwWKcSgJP"
      },
      "execution_count": null,
      "outputs": []
    },
    {
      "cell_type": "code",
      "source": [
        "for i in range(4):\n",
        "    print(i)"
      ],
      "metadata": {
        "colab": {
          "base_uri": "https://localhost:8080/"
        },
        "id": "Nw8BWug8fE1z",
        "outputId": "9e366f6d-7bff-4b45-a4d7-0d52ee609196"
      },
      "execution_count": 1,
      "outputs": [
        {
          "output_type": "stream",
          "name": "stdout",
          "text": [
            "0\n",
            "1\n",
            "2\n",
            "3\n"
          ]
        }
      ]
    },
    {
      "cell_type": "code",
      "source": [
        "supplies = ['pens', 'staplers', 'flamethrowers', 'binders']\n",
        "\n",
        "for i in range(len(supplies)):\n",
        "  print('Index ' + str(i) + ' in supplies is: ' + supplies[i])"
      ],
      "metadata": {
        "colab": {
          "base_uri": "https://localhost:8080/"
        },
        "id": "H_OOAy8OfYwz",
        "outputId": "afca4f5f-9b95-4a94-c0bf-5a74847895eb"
      },
      "execution_count": 2,
      "outputs": [
        {
          "output_type": "stream",
          "name": "stdout",
          "text": [
            "Index 0 in supplies is: pens\n",
            "Index 1 in supplies is: staplers\n",
            "Index 2 in supplies is: flamethrowers\n",
            "Index 3 in supplies is: binders\n"
          ]
        }
      ]
    },
    {
      "cell_type": "code",
      "source": [
        "# The following program lets the user type in a pet name and then checks to see whether the name is in a list of pets.\n",
        "\n",
        "myPets = ['Zophie', 'Pooka', 'Fat-tail']\n",
        "print('Enter a pet name:')\n",
        "name = input()\n",
        "if name not in myPets:\n",
        "    print('I do not have a pet named ' + name)\n",
        "else:\n",
        "    print(name + ' is my pet.')"
      ],
      "metadata": {
        "colab": {
          "base_uri": "https://localhost:8080/"
        },
        "id": "YCrzcjHIfqaj",
        "outputId": "f092849d-00fb-401d-f6fb-da49f392bd17"
      },
      "execution_count": 3,
      "outputs": [
        {
          "output_type": "stream",
          "name": "stdout",
          "text": [
            "Enter a pet name:\n",
            "Pooka\n",
            "Pooka is my pet.\n"
          ]
        }
      ]
    },
    {
      "cell_type": "code",
      "source": [
        "myMobile = ['iphone', 'pixel', 'galaxy']\n",
        "\n",
        "mobileName= input('Enter a mobile name: ')\n",
        "\n",
        "if mobileName not in myMobile:\n",
        "  print(mobileName, 'is not your mobile')\n",
        "else:\n",
        "  print(mobileName, 'is one of your mobiles')"
      ],
      "metadata": {
        "colab": {
          "base_uri": "https://localhost:8080/"
        },
        "id": "Bk08BiIhgwgS",
        "outputId": "a4b3fd0a-883d-4cdb-e1d5-8fce8cb298ae"
      },
      "execution_count": 6,
      "outputs": [
        {
          "output_type": "stream",
          "name": "stdout",
          "text": [
            "Enter a mobile name: pixel\n",
            "pixel is one of your mobiles\n"
          ]
        }
      ]
    },
    {
      "cell_type": "code",
      "source": [
        "# The Multiple Assignment Trick\n",
        "# The multiple assignment trick (technically called tuple unpacking) is a shortcut that lets you assign multiple variables with the values in a list in one line of code.\n",
        "\n",
        "# So instead of doing the follwoing:\n",
        "\n",
        "cat = ['fat', 'gray', 'loud']\n",
        "size = cat[0]\n",
        "color = cat[1]\n",
        "disposition = cat[2]\n",
        "\n",
        "# you can do this:\n",
        "\n",
        "cat = ['fat', 'gray', 'loud']\n",
        "size, color, disposition = cat\n",
        "\n",
        "print(size, color, disposition, sep = ' Next Value ')\n"
      ],
      "metadata": {
        "colab": {
          "base_uri": "https://localhost:8080/"
        },
        "id": "YylkkSQXhy00",
        "outputId": "e78415e0-252a-417b-e21a-eeaf3e670c19"
      },
      "execution_count": 10,
      "outputs": [
        {
          "output_type": "stream",
          "name": "stdout",
          "text": [
            "fat Next Value gray Next Value loud\n"
          ]
        }
      ]
    },
    {
      "cell_type": "code",
      "source": [
        "# Using the enumerate() Function with Lists\n",
        "\n",
        "\"\"\"Instead of using the range(len(someList)) technique with a for loop to\n",
        "obtain the integer index of the items in the list,\n",
        "you can call the enumerate() function instead. On each iteration of the loop,\n",
        "enumerate() will return two values: the index of the item in the list,\n",
        "and the item in the list itself.\"\"\""
      ],
      "metadata": {
        "colab": {
          "base_uri": "https://localhost:8080/",
          "height": 53
        },
        "id": "B4_pspljifxR",
        "outputId": "2db2ae4d-29b7-4308-ca82-08588e52fe29"
      },
      "execution_count": 12,
      "outputs": [
        {
          "output_type": "execute_result",
          "data": {
            "text/plain": [
              "'Instead of using the range(len(someList)) technique with a for loop to obtain the integer index of the items in the list, \\nyou can call the enumerate() function instead. On each iteration of the loop, \\nenumerate() will return two values: the index of the item in the list, and the item in the list itself.'"
            ],
            "application/vnd.google.colaboratory.intrinsic+json": {
              "type": "string"
            }
          },
          "metadata": {},
          "execution_count": 12
        }
      ]
    },
    {
      "cell_type": "code",
      "source": [
        "supplies = ['pens', 'staplers', 'flamethrowers', 'binders']\n",
        "\n",
        "for i in range(len(supplies)):\n",
        "  print('Index ' + str(i) + ' in supplies is: ' + supplies[i])"
      ],
      "metadata": {
        "colab": {
          "base_uri": "https://localhost:8080/"
        },
        "id": "LrJsIQEniIrK",
        "outputId": "65117757-a0c3-42e6-aac8-0a91d5055a24"
      },
      "execution_count": 13,
      "outputs": [
        {
          "output_type": "stream",
          "name": "stdout",
          "text": [
            "Index 0 in supplies is: pens\n",
            "Index 1 in supplies is: staplers\n",
            "Index 2 in supplies is: flamethrowers\n",
            "Index 3 in supplies is: binders\n"
          ]
        }
      ]
    },
    {
      "cell_type": "code",
      "source": [
        "supplies = ['pens', 'staplers', 'flamethrowers', 'binders']\n",
        "\n",
        "for index, item in enumerate(supplies):\n",
        "  print('Index ' + str(index) + ' in supplies is: ' + item)"
      ],
      "metadata": {
        "colab": {
          "base_uri": "https://localhost:8080/"
        },
        "id": "1wVPQEObkLcj",
        "outputId": "593c22e6-7beb-40fe-fb8b-42d5714f0594"
      },
      "execution_count": 17,
      "outputs": [
        {
          "output_type": "stream",
          "name": "stdout",
          "text": [
            "Index 0 in supplies is: pens\n",
            "Index 1 in supplies is: staplers\n",
            "Index 2 in supplies is: flamethrowers\n",
            "Index 3 in supplies is: binders\n"
          ]
        }
      ]
    },
    {
      "cell_type": "code",
      "source": [
        "# Using the random.choice() and random.shuffle() Functions with Lists\n",
        "\n",
        "# The random module has a couple functions that accept lists for arguments.\n",
        "# The random.choice() function will return a randomly selected item from the list.\n",
        "\n",
        "\n",
        "import random\n",
        "pets = ['Dog', 'Cat', 'Moose']\n",
        "\n",
        "random.choice(pets)\n",
        "\n"
      ],
      "metadata": {
        "colab": {
          "base_uri": "https://localhost:8080/",
          "height": 35
        },
        "id": "rrpxEgtzky-m",
        "outputId": "9354bacb-d786-4a45-b2fb-c76875908241"
      },
      "execution_count": 27,
      "outputs": [
        {
          "output_type": "execute_result",
          "data": {
            "text/plain": [
              "'C'"
            ],
            "application/vnd.google.colaboratory.intrinsic+json": {
              "type": "string"
            }
          },
          "metadata": {},
          "execution_count": 27
        }
      ]
    },
    {
      "cell_type": "code",
      "source": [
        "spam = ['a', 'z', 'A', 'Z']\n",
        "spam.sort(key=str.lower)\n",
        "\n",
        "spam\n"
      ],
      "metadata": {
        "colab": {
          "base_uri": "https://localhost:8080/"
        },
        "id": "WnHLxOAvonyh",
        "outputId": "ec549642-2509-4159-876b-941a81d1e64c"
      },
      "execution_count": 32,
      "outputs": [
        {
          "output_type": "execute_result",
          "data": {
            "text/plain": [
              "['a', 'A', 'z', 'Z']"
            ]
          },
          "metadata": {},
          "execution_count": 32
        }
      ]
    },
    {
      "cell_type": "code",
      "source": [
        "import random\n",
        "\n",
        "messages = ['It is certain',\n",
        "    'It is decidedly so',\n",
        "    'Yes definitely',\n",
        "    'Reply hazy try again',\n",
        "    'Ask again later',\n",
        "    'Concentrate and ask again',\n",
        "    'My reply is no',\n",
        "    'Outlook not so good',\n",
        "    'Very doubtful']\n",
        "\n",
        "print(messages[random.randint(0, len(messages) - 1)])"
      ],
      "metadata": {
        "colab": {
          "base_uri": "https://localhost:8080/"
        },
        "id": "rLojqEdapV5p",
        "outputId": "99b90935-fdb8-423f-b8ff-f18729d3d1f1"
      },
      "execution_count": 35,
      "outputs": [
        {
          "output_type": "stream",
          "name": "stdout",
          "text": [
            "It is decidedly so\n"
          ]
        }
      ]
    },
    {
      "cell_type": "code",
      "source": [
        "# The tuple data type is almost identical to the list data type, except in two ways. First, tuples are typed with parentheses, ( and ), instead of square brackets, [ and ].\n",
        "# But the main way that tuples are different from lists is that tuples, like strings, are immutable. Tuples cannot have their values modified, appended, or removed."
      ],
      "metadata": {
        "id": "wWEXu2g-z019"
      },
      "execution_count": 36,
      "outputs": []
    },
    {
      "cell_type": "code",
      "source": [
        "# Identity and the id() Function\n",
        "# All values in Python have a unique identity that can be obtained with the id() function.\n",
        "\n",
        "id('Howdy') # The returned number will be different in different machine.\n",
        "\n"
      ],
      "metadata": {
        "colab": {
          "base_uri": "https://localhost:8080/"
        },
        "id": "rWSVxFtXz8VK",
        "outputId": "6c44232b-ebb6-4073-a7a9-de22269a6ed3"
      },
      "execution_count": 37,
      "outputs": [
        {
          "output_type": "execute_result",
          "data": {
            "text/plain": [
              "140379952751472"
            ]
          },
          "metadata": {},
          "execution_count": 37
        }
      ]
    },
    {
      "cell_type": "code",
      "source": [
        "# Conway's Game of Life\n",
        "import random, time, copy\n",
        "WIDTH = 60\n",
        "HEIGHT = 20\n",
        "\n",
        "# Create a list of list for the cells:\n",
        "nextCells = []\n",
        "for x in range(WIDTH):\n",
        "    column = [] # Create a new column.\n",
        "    for y in range(HEIGHT):\n",
        "        if random.randint(0, 1) == 0:\n",
        "            column.append('#') # Add a living cell.\n",
        "        else:\n",
        "            column.append(' ') # Add a dead cell.\n",
        "    nextCells.append(column) # nextCells is a list of column lists.\n",
        "\n",
        "while True: # Main program loop.\n",
        "    print('\\n\\n\\n\\n\\n') # Separate each step with newlines.\n",
        "    currentCells = copy.deepcopy(nextCells)\n",
        "\n",
        "    # Print currentCells on the screen:\n",
        "    for y in range(HEIGHT):\n",
        "        for x in range(WIDTH):\n",
        "            print(currentCells[x][y], end='') # Print the # or space.\n",
        "        print() # Print a newline at the end of the row.\n",
        "\n",
        "    # Calculate the next step's cells based on current step's cells:\n",
        "    for x in range(WIDTH):\n",
        "        for y in range(HEIGHT):\n",
        "            # Get neighboring coordinates:\n",
        "            # `% WIDTH` ensures leftCoord is always between 0 and WIDTH - 1\n",
        "            leftCoord  = (x - 1) % WIDTH\n",
        "            rightCoord = (x + 1) % WIDTH\n",
        "            aboveCoord = (y - 1) % HEIGHT\n",
        "            belowCoord = (y + 1) % HEIGHT\n",
        "\n",
        "            # Count number of living neighbors:\n",
        "            numNeighbors = 0\n",
        "            if currentCells[leftCoord][aboveCoord] == '#':\n",
        "                numNeighbors += 1 # Top-left neighbor is alive.\n",
        "            if currentCells[x][aboveCoord] == '#':\n",
        "                numNeighbors += 1 # Top neighbor is alive.\n",
        "            if currentCells[rightCoord][aboveCoord] == '#':\n",
        "                numNeighbors += 1 # Top-right neighbor is alive.\n",
        "            if currentCells[leftCoord][y] == '#':\n",
        "                numNeighbors += 1 # Left neighbor is alive.\n",
        "            if currentCells[rightCoord][y] == '#':\n",
        "                numNeighbors += 1 # Right neighbor is alive.\n",
        "            if currentCells[leftCoord][belowCoord] == '#':\n",
        "                numNeighbors += 1 # Bottom-left neighbor is alive.\n",
        "            if currentCells[x][belowCoord] == '#':\n",
        "                numNeighbors += 1 # Bottom neighbor is alive.\n",
        "            if currentCells[rightCoord][belowCoord] == '#':\n",
        "                numNeighbors += 1 # Bottom-right neighbor is alive.\n",
        "\n",
        "            # Set cell based on Conway's Game of Life rules:\n",
        "            if currentCells[x][y] == '#' and (numNeighbors == 2 or\n",
        "numNeighbors == 3):\n",
        "                # Living cells with 2 or 3 neighbors stay alive:\n",
        "                nextCells[x][y] = '#'\n",
        "            elif currentCells[x][y] == ' ' and numNeighbors == 3:\n",
        "                # Dead cells with 3 neighbors become alive:\n",
        "                nextCells[x][y] = '#'\n",
        "            else:\n",
        "                # Everything else dies or stays dead:\n",
        "                nextCells[x][y] = ' '\n",
        "    time.sleep(1) # Add a 1-second pause to reduce flickering."
      ],
      "metadata": {
        "colab": {
          "base_uri": "https://localhost:8080/",
          "height": 1000
        },
        "id": "eC_eyfrM2Xym",
        "outputId": "df4898de-15ca-467f-a2dd-d01ffc8db60e"
      },
      "execution_count": 39,
      "outputs": [
        {
          "output_type": "stream",
          "name": "stdout",
          "text": [
            "\n",
            "\n",
            "\n",
            "\n",
            "\n",
            "\n",
            " ### ####  #   # # ## # # # ####    ## ###### ## # ## ###   \n",
            "# #  #    # ### ##    # ### ### # ## # # ### ####### ### ###\n",
            "  #             # # # # ###### ##  # ## ###  ### ### #   #  \n",
            "## # ###    ####   ## ## #  ###### ### # # #   ##  # ##     \n",
            "  ##  ##    ##### #    ##  # #    ##  ## #     ####### ##   \n",
            " ######### ##### ## ## ##     ###   #    #   ##### # #### ##\n",
            " ####   #   ###### #    ##      ###  ## ### ## #  # #     # \n",
            "##   # #   ###  ### ##   #  #### ### # # ##  ##   # ##  # ##\n",
            "# #  # ##   ## ######  # # # # ## ##  ##########     ###### \n",
            "###  #  ##    # ##   ##  ## #   # # ##  ## ##  # # ######  #\n",
            "       # #  ##                ### # # # # #   ## #   # #####\n",
            "# ## ### #     ##  ## #   # ###  #  ##### ### #  ###   # ###\n",
            "###  #  # #  ####   ##  ## ##   #####  # #  ##   #     #  ##\n",
            "    #  ####      # ### ##   #####   # ### ####      ##    # \n",
            "### # ###        ## # # # #   ##  ####  # ##   #   ####   # \n",
            "   ##   ##    #     ##     ####   ###   ## # ##     #    # #\n",
            "######### ##########        #   # ##   # ###  ## #     # #  \n",
            " # # ## #   #   ## ## #### #   #    ## ####  #### # ##  ##  \n",
            "  ##### ## # # #### #    ###  #  # ###  #    ## ### #    ###\n",
            "    # ## ####   ####  # # # # ## #### #   #   #  ## ####  ##\n",
            "\n",
            "\n",
            "\n",
            "\n",
            "\n",
            "\n",
            " ###    #     ##   ## # # #            #    #               \n",
            "#   ## #   ####     # #         ####                     ###\n",
            "  ####     #    # # # #                      #         ###  \n",
            " # ### #    #     # # #          #                     ##   \n",
            "                  #      #        #   ## #              ## #\n",
            "#        # #        # #       ###   #       ##          # ##\n",
            "         ##           ## #           ###   ##     #     #   \n",
            "     # #   #         #   #  ##       #              #   #   \n",
            "  # ## # # #             # #                   ## #         \n",
            "  #      #    #    #### ######    # #             #         \n",
            "   ### # ##  ##  #  # #  ## # # # #           ## #   #      \n",
            "  #### # ## #   #  ##    ## # #           # # ## #     #    \n",
            "  #  #    #   #  ##     ###       #           #  # ## # #   \n",
            "    #     #   ## #        # #         #      ##    #     ## \n",
            "### # #   #      ##   # ##      ###   #            #  #  ## \n",
            "          ### #     ##     ## #      # #     #  #  ## # ## #\n",
            "##        ### #       ### #   ## ##  ###   #     # ###   #  \n",
            "                    ## ### ##  ###   # #   ##     # ##     #\n",
            "# #          # #    # #     ###  #      # #            #   #\n",
            "##            #         #   #    #    #   # #              #\n",
            "\n",
            "\n",
            "\n",
            "\n",
            "\n",
            "\n",
            "  ###       #  #   ##    #      #          #                \n",
            "#    ##    ####     # #          ##                      ###\n",
            "###        #     #  # ##        #                      #   #\n",
            "     ##           #                                       # \n",
            "    #                          ###                         #\n",
            "#        #           ####      #        #  ###         ## ##\n",
            "        ## #          ###    ###    ###    ###         ##  #\n",
            "    ##   # #          #  #  #        #           # #        \n",
            "   ###                #                          # #        \n",
            "  #      #   ##    ## ###    #   # #          #   #         \n",
            "     #     # ###  #   ##      ## # #         ### ##         \n",
            "  #           ###  ###         # #               #  ####    \n",
            "  #  ##   #  ##  ###    #    #                  #  ##  ###  \n",
            "  # #    ###  ##       #  ##      #          ##    # # ## ##\n",
            "## # #   ##  ######  #   ## ##   #   ###     ##   ## # #    \n",
            "  #      #  #        #    ## ##      # #              ###  #\n",
            "#         # #             #   #  ## ## ##  #     #    # ## #\n",
            "           ####     #    ####        # ## ###     #  ##   ##\n",
            "              #     # #  #    ## ##   ## ## #             # \n",
            "   #         #     ##    # ##          # #                 #\n"
          ]
        },
        {
          "output_type": "error",
          "ename": "KeyboardInterrupt",
          "evalue": "ignored",
          "traceback": [
            "\u001b[0;31m---------------------------------------------------------------------------\u001b[0m",
            "\u001b[0;31mKeyboardInterrupt\u001b[0m                         Traceback (most recent call last)",
            "\u001b[0;32m<ipython-input-39-d058440c18e5>\u001b[0m in \u001b[0;36m<cell line: 17>\u001b[0;34m()\u001b[0m\n\u001b[1;32m     65\u001b[0m                 \u001b[0;31m# Everything else dies or stays dead:\u001b[0m\u001b[0;34m\u001b[0m\u001b[0;34m\u001b[0m\u001b[0m\n\u001b[1;32m     66\u001b[0m                 \u001b[0mnextCells\u001b[0m\u001b[0;34m[\u001b[0m\u001b[0mx\u001b[0m\u001b[0;34m]\u001b[0m\u001b[0;34m[\u001b[0m\u001b[0my\u001b[0m\u001b[0;34m]\u001b[0m \u001b[0;34m=\u001b[0m \u001b[0;34m' '\u001b[0m\u001b[0;34m\u001b[0m\u001b[0;34m\u001b[0m\u001b[0m\n\u001b[0;32m---> 67\u001b[0;31m     \u001b[0mtime\u001b[0m\u001b[0;34m.\u001b[0m\u001b[0msleep\u001b[0m\u001b[0;34m(\u001b[0m\u001b[0;36m1\u001b[0m\u001b[0;34m)\u001b[0m \u001b[0;31m# Add a 1-second pause to reduce flickering.\u001b[0m\u001b[0;34m\u001b[0m\u001b[0;34m\u001b[0m\u001b[0m\n\u001b[0m",
            "\u001b[0;31mKeyboardInterrupt\u001b[0m: "
          ]
        }
      ]
    },
    {
      "cell_type": "code",
      "source": [
        "# Chapter 5 : DICTIONARIES AND STRUCTURING DATA\n"
      ],
      "metadata": {
        "id": "FIxL6rhg3vtc"
      },
      "execution_count": null,
      "outputs": []
    },
    {
      "cell_type": "code",
      "source": [
        "birthdays = {'Alice': 'Apr 1', 'Bob': 'Dec 12', 'Carol': 'Mar 4'}\n",
        "\n",
        "while True:\n",
        "    print('Enter a name: (blank to quit)')\n",
        "    name = input()\n",
        "    if name == '':\n",
        "        break\n",
        "\n",
        "    if name in birthdays:\n",
        "        print(birthdays[name] + ' is the birthday of ' + name)\n",
        "    else:\n",
        "        print('I do not have birthday information for ' + name)\n",
        "        print('What is their birthday?')\n",
        "        bday = input()\n",
        "        birthdays[name] = bday\n",
        "        print('Birthday database updated.')"
      ],
      "metadata": {
        "colab": {
          "base_uri": "https://localhost:8080/"
        },
        "id": "kNTUdmxo33Dc",
        "outputId": "43f70b25-36bb-4f4b-de3f-d50f934f60f1"
      },
      "execution_count": 41,
      "outputs": [
        {
          "name": "stdout",
          "output_type": "stream",
          "text": [
            "Enter a name: (blank to quit)\n",
            "\n"
          ]
        }
      ]
    },
    {
      "cell_type": "code",
      "source": [
        "picnicItems = {'apples': 5, 'cups': 2}\n",
        "\n",
        "new1 = 'I am bringing ' + str(picnicItems.get('cups')) + ' cups.'\n",
        "print(new1)\n",
        "\n",
        "new1 = 'I am bringing ' + str(picnicItems.get('eggs')) + ' eggs.'\n",
        "print(new1)"
      ],
      "metadata": {
        "colab": {
          "base_uri": "https://localhost:8080/"
        },
        "id": "gAw2J7f38A1b",
        "outputId": "042a49e8-62fc-41e5-e11f-5e3a9a767393"
      },
      "execution_count": 47,
      "outputs": [
        {
          "output_type": "stream",
          "name": "stdout",
          "text": [
            "I am bringing 2 cups.\n",
            "I am bringing None eggs.\n"
          ]
        }
      ]
    },
    {
      "cell_type": "code",
      "source": [
        "message = 'It was a bright cold day in April, and the clocks were striking thirteen.'\n",
        "count = {}\n",
        "\n",
        "for character in message:\n",
        "  count.setdefault(character, 0)\n",
        "  count[character] = count[character] + 1\n",
        "\n",
        "print(count)"
      ],
      "metadata": {
        "colab": {
          "base_uri": "https://localhost:8080/"
        },
        "id": "eg1EU7F19UFK",
        "outputId": "d2877e8d-6b00-4949-ec84-2ba9b68b14a8"
      },
      "execution_count": 50,
      "outputs": [
        {
          "output_type": "stream",
          "name": "stdout",
          "text": [
            "{'b': 1, 'l': 1, 'a': 2}\n"
          ]
        }
      ]
    },
    {
      "cell_type": "code",
      "source": [
        "import pprint\n",
        "message = 'It was a bright cold day in April, and the clocks were striking thirteen.'\n",
        "count = {}\n",
        "\n",
        "for character in message:\n",
        "    count.setdefault(character, 0)\n",
        "    count[character] = count[character] + 1\n",
        "\n",
        "pprint.pprint(count)"
      ],
      "metadata": {
        "colab": {
          "base_uri": "https://localhost:8080/"
        },
        "id": "fpY4HVUQ-SJK",
        "outputId": "e9d7c3fe-cd57-45ec-8590-58f9938e5d76"
      },
      "execution_count": 51,
      "outputs": [
        {
          "output_type": "stream",
          "name": "stdout",
          "text": [
            "{' ': 13,\n",
            " ',': 1,\n",
            " '.': 1,\n",
            " 'A': 1,\n",
            " 'I': 1,\n",
            " 'a': 4,\n",
            " 'b': 1,\n",
            " 'c': 3,\n",
            " 'd': 3,\n",
            " 'e': 5,\n",
            " 'g': 2,\n",
            " 'h': 3,\n",
            " 'i': 6,\n",
            " 'k': 2,\n",
            " 'l': 3,\n",
            " 'n': 4,\n",
            " 'o': 2,\n",
            " 'p': 1,\n",
            " 'r': 5,\n",
            " 's': 3,\n",
            " 't': 6,\n",
            " 'w': 2,\n",
            " 'y': 1}\n"
          ]
        }
      ]
    },
    {
      "cell_type": "code",
      "source": [
        "theBoard = {'top-L': ' ', 'top-M': ' ', 'top-R': ' ',\n",
        "            'mid-L': ' ', 'mid-M': ' ', 'mid-R': ' ',\n",
        "            'low-L': ' ', 'low-M': ' ', 'low-R': ' '}\n",
        "\n",
        "def printBoard(board):\n",
        "  print(board['top-L'] + '|' + board['top-M'] + '|' + board['top-R'])\n",
        "  print('-+-+-')\n",
        "  print(board['mid-L'] + '|' + board['mid-M'] + '|' + board['mid-R'])\n",
        "  print('-+-+-')\n",
        "  print(board['low-L'] + '|' + board['low-M'] + '|' + board['low-R'])\n",
        "printBoard(theBoard)"
      ],
      "metadata": {
        "colab": {
          "base_uri": "https://localhost:8080/"
        },
        "id": "_9b5ZUUZe8bV",
        "outputId": "736e6f7b-a79e-454f-e562-af8ddd902dae"
      },
      "execution_count": 5,
      "outputs": [
        {
          "output_type": "stream",
          "name": "stdout",
          "text": [
            " | | \n",
            "-+-+-\n",
            " | | \n",
            "-+-+-\n",
            " | | \n"
          ]
        }
      ]
    },
    {
      "cell_type": "code",
      "source": [
        "theBoard = {'top-L': 'O', 'top-M': 'O', 'top-R': 'O', 'mid-L': 'X', 'mid-M':\n",
        "'X', 'mid-R': ' ', 'low-L': ' ', 'low-M': ' ', 'low-R': 'X'}\n",
        "\n",
        "def printBoard(board):\n",
        "  print(board['top-L'] + '|' + board['top-M'] + '|' + board['top-R'])\n",
        "  print('-+-+-')\n",
        "  print(board['mid-L'] + '|' + board['mid-M'] + '|' + board['mid-R'])\n",
        "  print('-+-+-')\n",
        "  print(board['low-L'] + '|' + board['low-M'] + '|' + board['low-R'])\n",
        "printBoard(theBoard)"
      ],
      "metadata": {
        "colab": {
          "base_uri": "https://localhost:8080/"
        },
        "id": "diI-pfkbfHy7",
        "outputId": "803f3d45-750d-48e5-ed1e-e42a6b6fe367"
      },
      "execution_count": 6,
      "outputs": [
        {
          "output_type": "stream",
          "name": "stdout",
          "text": [
            "O|O|O\n",
            "-+-+-\n",
            "X|X| \n",
            "-+-+-\n",
            " | |X\n"
          ]
        }
      ]
    },
    {
      "cell_type": "code",
      "source": [
        "# Chapter: 6"
      ],
      "metadata": {
        "id": "BTA12KPnL4yK"
      },
      "execution_count": 1,
      "outputs": []
    },
    {
      "cell_type": "code",
      "source": [
        "name = 'Al'\n",
        "age = 4000\n",
        "'My name is %s. I am %s years old.' % (name, age)\n",
        "\n"
      ],
      "metadata": {
        "colab": {
          "base_uri": "https://localhost:8080/",
          "height": 35
        },
        "id": "q7Iy1qxFL68-",
        "outputId": "ea99ff30-e518-4070-efc1-fc6a39a54d52"
      },
      "execution_count": 2,
      "outputs": [
        {
          "output_type": "execute_result",
          "data": {
            "text/plain": [
              "'My name is Al. I am 4000 years old.'"
            ],
            "application/vnd.google.colaboratory.intrinsic+json": {
              "type": "string"
            }
          },
          "metadata": {},
          "execution_count": 2
        }
      ]
    },
    {
      "cell_type": "code",
      "source": [
        "print('How are you?')\n",
        "feeling = input()\n",
        "if feeling.lower() == 'great':\n",
        "    print('I feel great too.')\n",
        "else:\n",
        "    print('I hope the rest of your day is good.')"
      ],
      "metadata": {
        "colab": {
          "base_uri": "https://localhost:8080/"
        },
        "id": "2FZ-CFodMiU5",
        "outputId": "e583dbf0-dcc9-4216-995a-e434f1135565"
      },
      "execution_count": 3,
      "outputs": [
        {
          "output_type": "stream",
          "name": "stdout",
          "text": [
            "How are you?\n",
            "great\n",
            "I feel great too.\n"
          ]
        }
      ]
    },
    {
      "cell_type": "code",
      "source": [
        "def printPicnic(itemsDict, leftWidth, rightWidth):\n",
        "    print('PICNIC ITEMS'.center(leftWidth + rightWidth, '-'))\n",
        "    for k, v in itemsDict.items():\n",
        "        print(k.ljust(leftWidth, '.') + str(v).rjust(rightWidth))\n",
        "\n",
        "picnicItems = {'sandwiches': 4, 'apples': 12, 'cups': 4, 'cookies': 8000}\n",
        "printPicnic(picnicItems, 12, 5)\n",
        "printPicnic(picnicItems, 20, 6)"
      ],
      "metadata": {
        "colab": {
          "base_uri": "https://localhost:8080/"
        },
        "id": "VI5uPaTpWapt",
        "outputId": "47deeef6-cf1b-46ef-e85a-0b614a0a6ef9"
      },
      "execution_count": 4,
      "outputs": [
        {
          "output_type": "stream",
          "name": "stdout",
          "text": [
            "---PICNIC ITEMS--\n",
            "sandwiches..    4\n",
            "apples......   12\n",
            "cups........    4\n",
            "cookies..... 8000\n",
            "-------PICNIC ITEMS-------\n",
            "sandwiches..........     4\n",
            "apples..............    12\n",
            "cups................     4\n",
            "cookies.............  8000\n"
          ]
        }
      ]
    }
  ]
}